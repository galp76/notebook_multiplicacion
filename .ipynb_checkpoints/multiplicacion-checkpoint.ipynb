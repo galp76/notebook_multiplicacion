{
 "cells": [
  {
   "cell_type": "markdown",
   "metadata": {},
   "source": [
    "## Hola Germán \n",
    "Esto es lo que he podido hacer... Mañana lo termino"
   ]
  },
  {
   "cell_type": "code",
   "execution_count": 3,
   "metadata": {},
   "outputs": [
    {
     "name": "stdout",
     "output_type": "stream",
     "text": [
      "Hola Germán, por favor introduce el primer número:\n"
     ]
    },
    {
     "name": "stdin",
     "output_type": "stream",
     "text": [
      " 654\n"
     ]
    },
    {
     "name": "stdout",
     "output_type": "stream",
     "text": [
      "Ahora introduce el segundo número:\n"
     ]
    },
    {
     "name": "stdin",
     "output_type": "stream",
     "text": [
      " 5\n"
     ]
    },
    {
     "name": "stdout",
     "output_type": "stream",
     "text": [
      "Vamos a hacer la siguiente multiplicación:\n",
      "\n",
      "654 * 5\n",
      "          654 * 5\n",
      "            0\n",
      "\n",
      "\n",
      "Ponemos el 0 y llevamos 2\n"
     ]
    }
   ],
   "source": [
    "print('Hola Germán, por favor introduce el primer número:')\n",
    "a=input()\n",
    "long_a=len(a)\n",
    "print('Ahora introduce el segundo número:')\n",
    "b=input()\n",
    "long_b=len(b)\n",
    "print('Vamos a hacer la siguiente multiplicación:\\n\\n'+a+' * '+b)\n",
    "mrg_a=len(a)\n",
    "mrg_b=len(b)\n",
    "c=0\n",
    "d=''\n",
    "#formato(a, b)\n",
    "multiplicar(a, b)\n",
    "formato(a, b)"
   ]
  },
  {
   "cell_type": "code",
   "execution_count": 1,
   "metadata": {},
   "outputs": [],
   "source": [
    "def formato(x, y):\n",
    "    global d\n",
    "    print(x.rjust(10+mrg_a, ' ')+' * '+y)\n",
    "    print(d[1].rjust(10+mrg_a, ' '))\n",
    "    print('\\n\\nPonemos el '+d[1]+' y llevamos '+d[0])"
   ]
  },
  {
   "cell_type": "code",
   "execution_count": 2,
   "metadata": {},
   "outputs": [],
   "source": [
    "def multiplicar(x, y):\n",
    "    global c, d\n",
    "    \n",
    "    for i in range(0, long_b):\n",
    "        for j in range(0, long_a):\n",
    "            c=int(a[-1])*int(b[-1])\n",
    "            d=str(c)"
   ]
  },
  {
   "cell_type": "code",
   "execution_count": null,
   "metadata": {},
   "outputs": [],
   "source": []
  }
 ],
 "metadata": {
  "kernelspec": {
   "display_name": "Python 3",
   "language": "python",
   "name": "python3"
  },
  "language_info": {
   "codemirror_mode": {
    "name": "ipython",
    "version": 3
   },
   "file_extension": ".py",
   "mimetype": "text/x-python",
   "name": "python",
   "nbconvert_exporter": "python",
   "pygments_lexer": "ipython3",
   "version": "3.9.0"
  }
 },
 "nbformat": 4,
 "nbformat_minor": 4
}
